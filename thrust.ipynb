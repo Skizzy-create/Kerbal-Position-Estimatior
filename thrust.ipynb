{
 "cells": [
  {
   "cell_type": "code",
   "execution_count": 1,
   "metadata": {},
   "outputs": [],
   "source": [
    "import krpc\n",
    "import csv\n",
    "import time\n",
    "import numpy as np"
   ]
  },
  {
   "cell_type": "code",
   "execution_count": null,
   "metadata": {},
   "outputs": [],
   "source": [
    "conn = krpc.connect(address=\"172.24.144.1\", rpc_port=50000, stream_port=50001, name=\"Telemetry\")"
   ]
  },
  {
   "cell_type": "code",
   "execution_count": null,
   "metadata": {},
   "outputs": [],
   "source": [
    "vessel = conn.space_center.active_vessel\n",
    "refframe = vessel.orbit.body.reference_frame\n",
    "vessel"
   ]
  },
  {
   "cell_type": "code",
   "execution_count": null,
   "metadata": {},
   "outputs": [],
   "source": [
    "\n",
    "# Get the first engine of the vessel\n",
    "engine = vessel.parts.engines[0]\n",
    "\n",
    "# Create streams for all the engine parameters\n",
    "thrust = conn.add_stream(getattr, engine, 'thrust')\n",
    "available_thrust = conn.add_stream(getattr, engine, 'available_thrust')\n",
    "max_thrust = conn.add_stream(getattr, engine, 'max_thrust')\n",
    "max_vacuum_thrust = conn.add_stream(getattr, engine, 'max_vacuum_thrust')\n",
    "thrust_limit = conn.add_stream(getattr, engine, 'thrust_limit')\n",
    "\n",
    "# Open the CSV file in write mode\n",
    "with open('engine_parameters.csv', 'w', newline='') as file:\n",
    "    writer = csv.writer(file)\n",
    "    # Write the header\n",
    "    writer.writerow([\"Time\", \"Thrust\", \"Available Thrust\", \"Max Thrust\", \"Max Vacuum Thrust\", \"Thrust Limit\"])\n",
    "    \n",
    "    # Start logging data\n",
    "    start_time = time.time()\n",
    "    while True:\n",
    "        # Get the current time and engine parameters\n",
    "        current_time = time.time() - start_time\n",
    "        current_thrust = thrust()\n",
    "        current_available_thrust = available_thrust()\n",
    "        current_max_thrust = max_thrust()\n",
    "        current_max_vacuum_thrust = max_vacuum_thrust()\n",
    "        current_thrust_limit = thrust_limit()\n",
    "        \n",
    "        # Write the data to the CSV file\n",
    "        writer.writerow([current_time, current_thrust, current_available_thrust, current_max_thrust, current_max_vacuum_thrust, current_thrust_limit])\n",
    "        \n",
    "        # Print the data to the console\n",
    "        print(f\"Time: {current_time}, Thrust: {current_thrust}, Available Thrust: {current_available_thrust}, Max Thrust: {current_max_thrust}, Max Vacuum Thrust: {current_max_vacuum_thrust}, Thrust Limit: {current_thrust_limit}\")\n",
    "        \n",
    "        # Wait for a short period of time before logging the next set of data\n",
    "        time.sleep(0.1)\n"
   ]
  }
 ],
 "metadata": {
  "kernelspec": {
   "display_name": "kerbal",
   "language": "python",
   "name": "python3"
  },
  "language_info": {
   "codemirror_mode": {
    "name": "ipython",
    "version": 3
   },
   "file_extension": ".py",
   "mimetype": "text/x-python",
   "name": "python",
   "nbconvert_exporter": "python",
   "pygments_lexer": "ipython3",
   "version": "3.10.13"
  }
 },
 "nbformat": 4,
 "nbformat_minor": 2
}
